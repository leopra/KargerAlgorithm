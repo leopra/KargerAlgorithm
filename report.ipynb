{
 "cells": [
  {
   "cell_type": "markdown",
   "metadata": {},
   "source": [
    "# Relazione terzo progetto algoritmi avanzati\n",
    "\n",
    "Francesca Meneghello 1227939 <br />\n",
    "Leonardo Pratesi 1237582"
   ]
  },
  {
   "cell_type": "markdown",
   "metadata": {},
   "source": [
    "## 1. Introduzione"
   ]
  },
  {
   "cell_type": "markdown",
   "metadata": {},
   "source": [
    "Una iniziale implementazione prevedeva l'utilizzo di un dizionario contente coppie chiave valore ('id nodo' : \\[array nodi adiacenti\\]), in modo random veniva selezionata una chiave dall'array e successivamente un nodo adiacente dall'array di nodi adiacenti in modo da selezionare un arco randomico. Le chiavi dei due nodi venivano eliminate dal dizionario e veniva creata una nuova chiave fittizia che identificava il nodo nato dalla procedura di Contraction.\n",
    "Successivamente tutti i valori delle chiavi venivano analizzati per sostiuire tutte le occorrenze dei due nodi eliminato con il nodo fittizio.\n",
    "Tuttavia questa implementazione si è dimostrata molto inefficente dal punto di vista computazionale ed inoltre la selezione dell'arco casuale non rispettava la condizione di probabilità uniforme richiesta dall'algoritmo di Karger.  </br>\n",
    "Si è optato quindi per un implementazione attraverso una semplice lista che conserva tutti gli archi come coppie di tuple (nodo, nodo) che si è dimostrata molto più efficiente."
   ]
  },
  {
   "cell_type": "code",
   "execution_count": 32,
   "metadata": {
    "tags": []
   },
   "outputs": [
    {
     "output_type": "stream",
     "name": "stdout",
     "text": "[('5', '6'), ('1', '4'), ('2', '6'), ('1', '3'), ('3', '5'), ('4', '5'), ('1', '2'), ('2', '5'), ('2', '4')]\n"
    }
   ],
   "source": [
    "import Contraction as c\n",
    "import math\n",
    "import time\n",
    "\n",
    "lista, nodi= c.ListEdge('input_random_1_6.txt')\n",
    "print(lista)"
   ]
  },
  {
   "cell_type": "markdown",
   "metadata": {},
   "source": [
    "# Full Contraction"
   ]
  },
  {
   "cell_type": "markdown",
   "metadata": {},
   "source": [
    "L'algorimto di Full Contraction prende in input il nome del file contenente la matrice di adiacenza, genera la lista di archi attraverso il metodo ListEdge e salva il numero totale di nodi nel grafo. L'algoritmo seleziona un arco casuale della lista e lo elimina insieme a tutto i suoi duplicati, elimina i due nodi e riposiziona gli archi. Quando gli archi rimanenti sono solo 2, l'algoritmo si interrompe e ritorna la lunghezza della lista di archi. [CONTINUA]\n"
   ]
  },
  {
   "cell_type": "code",
   "execution_count": 33,
   "metadata": {},
   "outputs": [],
   "source": [
    "def FullContraction(filename):\n",
    "    edges, nodes= ListEdge(filename) #lista archi #\n",
    "    while nodes>2:\n",
    "        x= random.choice(edges) ## estrazione casuale arco ##\n",
    "        nodea= x[0]\n",
    "        nodeb= x[1]\n",
    "        #### rimuovere arco selezionato e gli eventuali duplicati ####\n",
    "        while x in edges:\n",
    "            edges.remove(x)\n",
    "        nodes=nodes-1\n",
    "        ### sostituire con nuovo nodo e riposizionare gli archi corretti ###\n",
    "        edges=changeEdge(edges, nodea, nodeb)  \n",
    "        \n",
    "    #print('Final result: ', len(edges))\n",
    "    return len(edges)"
   ]
  },
  {
   "cell_type": "markdown",
   "metadata": {},
   "source": [
    "# Karger\n",
    "L'algoritmo di karger prende in input il nome del file contenente la matrice di adiacenza e il numero k che definisce quante volte eseguire la procedura di full contraction e ritorna il taglio minimo trovato ed il tempo impegato per trovare la migliore soluzione possibile, se questa non è stata trovata ritorna allora -1.\n",
    "E' stato settato un timeout che interrompe l'algoritmo dopo 600 secondi."
   ]
  },
  {
   "cell_type": "code",
   "execution_count": 34,
   "metadata": {},
   "outputs": [],
   "source": [
    "MAX= 9223372036854775807\n",
    "\n",
    "\n",
    "def karger(filename, k):\n",
    "    timeinit = time.time()\n",
    "    #variable to save only the first time the correct solution is found\n",
    "    found= False\n",
    "    #the time of the first correct solution is inialized as -1 , so it is easy to check if the correct solution was not found\n",
    "    timeright = -1\n",
    "    #the method getrealresults simply gets the correct solution from the output file\n",
    "    REAL = c.getrealresult(filename)\n",
    "    min= MAX\n",
    "\n",
    "    while k>0:\n",
    "        #timeout to stop the algorithm\n",
    "        if time.time() > timeinit + 600:\n",
    "            break\n",
    "        edges=c.FullContraction(filename)\n",
    "        #condition to save the time of the first correct solution\n",
    "        if REAL == edges and found == False:\n",
    "            timeright = time.time()\n",
    "            found = True\n",
    "        if edges<min:\n",
    "            min=edges\n",
    "        k=k-1\n",
    "    print('MINCUT: ' , min)\n",
    "    return min, timeright"
   ]
  },
  {
   "cell_type": "markdown",
   "metadata": {},
   "source": [
    "# Numero Iterazioni\n",
    "il parametro k è stato selezionato per ogni grafo in base al numero di nodi in modo da assicurare una probabilità di non trovare il mincut corretto dell'ordine di 1/numero di nodi. \n",
    "Per questo motivo k viene impostato dal metodo defineK(n) che prende il numero 'n' di nodi del grafo e lo imposta a 1*(n*n)/2*ln(n) secondo la formula di probabilità affrontata nelle lezioni teoriche.  "
   ]
  },
  {
   "cell_type": "code",
   "execution_count": 35,
   "metadata": {
    "tags": []
   },
   "outputs": [
    {
     "output_type": "stream",
     "name": "stdout",
     "text": "input_random_10_25.txt\nnumber of contractions:  1006\nMINCUT:  6\ntime : 1.2901647090911865 seconds \ntime first minimal solution: 0.061783790588378906 seconds \n"
    }
   ],
   "source": [
    "def defineK(n):\n",
    "    k= ((n*n)/2)* math.log(n)\n",
    "    print('number of contractions: ', round(k))\n",
    "    return round(k)\n",
    "\n",
    "\n",
    "listfile = 'input_random_10_25.txt'\n",
    "print(listfile)\n",
    "start_time = time.time()\n",
    "partialresult, solvetime = karger(listfile, defineK(c.nodfromname(listfile)))\n",
    "end = time.time()\n",
    "print(\"time : %s seconds \" % (end - start_time))\n",
    "if (solvetime==-1):\n",
    "    print('NOT FOUND')\n",
    "else:\n",
    "    print(\"time first minimal solution: %s seconds \" % (solvetime - start_time))"
   ]
  },
  {
   "cell_type": "markdown",
   "metadata": {},
   "source": [
    "## 2. Il tempo impiegato dalla procedura di Full Contraction\n"
   ]
  },
  {
   "cell_type": "markdown",
   "metadata": {},
   "source": [
    "Spiegazione grafico, media del tempo impiegato dalla FullContraction per dimensione grafo "
   ]
  },
  {
   "cell_type": "markdown",
   "metadata": {},
   "source": [
    "<img src=\"FullContractionMedia.png\" width=550 height=450 />"
   ]
  },
  {
   "cell_type": "markdown",
   "metadata": {},
   "source": [
    "## 3. Il tempo impiegato dall'algoritmo completo per ripetere la contrazione un numero sufficientemente alto di volte"
   ]
  },
  {
   "cell_type": "markdown",
   "metadata": {},
   "source": [
    "<img src=\"PlotKarger.png\" width=550 height=450 />"
   ]
  },
  {
   "cell_type": "markdown",
   "metadata": {},
   "source": [
    "<img src=\"TabellaStime.png\" width=450 height=350 />"
   ]
  },
  {
   "cell_type": "markdown",
   "metadata": {},
   "source": [
    "<img src=\"PlotKarger2.png\" width=450 height=350 />"
   ]
  },
  {
   "cell_type": "markdown",
   "metadata": {},
   "source": [
    "## 4. Il discovery time, ossia il momento in cui l'algoritmo trova per la prima volta il taglio di costo mimimo"
   ]
  },
  {
   "cell_type": "code",
   "execution_count": null,
   "metadata": {},
   "outputs": [],
   "source": [
    "import plotLeo\n",
    "plotLeo"
   ]
  },
  {
   "cell_type": "markdown",
   "metadata": {},
   "source": [
    "## 5. L'errore nella soluzione trovata rispetto al risultato ottimo"
   ]
  },
  {
   "cell_type": "markdown",
   "metadata": {},
   "source": [
    "L'errore è pari a zero per tutti i grafi ..."
   ]
  },
  {
   "cell_type": "markdown",
   "metadata": {},
   "source": [
    "## 6. Conclusioni"
   ]
  },
  {
   "cell_type": "code",
   "execution_count": null,
   "metadata": {},
   "outputs": [],
   "source": []
  }
 ],
 "metadata": {
  "kernelspec": {
   "display_name": "Python 3",
   "language": "python",
   "name": "python3"
  },
  "language_info": {
   "codemirror_mode": {
    "name": "ipython",
    "version": 3
   },
   "file_extension": ".py",
   "mimetype": "text/x-python",
   "name": "python",
   "nbconvert_exporter": "python",
   "pygments_lexer": "ipython3",
   "version": "3.8.2-final"
  }
 },
 "nbformat": 4,
 "nbformat_minor": 2
}