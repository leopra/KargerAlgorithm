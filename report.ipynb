{
 "cells": [
  {
   "cell_type": "markdown",
   "metadata": {},
   "source": [
    "# Relazione terzo progetto algoritmi avanzati\n",
    "\n",
    "Francesca Meneghello 1227939 <br />\n",
    "Leonardo Pratesi 1237582"
   ]
  },
  {
   "cell_type": "markdown",
   "metadata": {},
   "source": [
    "## 1. Introduzione"
   ]
  },
  {
   "cell_type": "markdown",
   "metadata": {},
   "source": [
    "Una iniziale implementazione prevedeva l'utilizzo di un dizionario contente coppie chiave valore ('id nodo' : \\[array nodi adiacenti\\]), in modo random veniva selezionata una chiave dall'array e successivamente un nodo adiacente dall'array di nodi adiacenti in modo da selezionare un arco randomico. Le chiavi dei due nodi venivano eliminate dal dizionario e veniva creata una nuova chiave fittizia che identificava il nodo nato dalla procedura di Contraction.\n",
    "Successivamente tutti i valori delle chiavi venivano analizzati per sostiuire tutte le occorrenze dei due nodi eliminato con il nodo fittizio.\n",
    "Tuttavia questa implementazione si è dimostrata molto inefficente dal punto di vista computazionale ed inoltre la selezione dell'arco casuale non rispettava la condizione di probabilità uniforme richiesta dall'algoritmo di Karger. <br />\n",
    "Si è optato quindi per un implementazione attraverso una semplice lista che conserva tutti gli archi come coppie di tuple (nodo, nodo) che si è dimostrata molto più efficiente. Anche se gli archi non sono orientati per diminuire gli elementi della lista abbiamo tenuto una sola direzione, in quanto non cambiama il risultato dell'algoritmo. <br />\n",
    "La scelta di memorizzare solo la lista di archi e non una lista di adiacenza ci ha permesso in fase di cancellazione e modifica degli archi di agire solo su un lista e non passare in rassegna i nodi e le lore liste di adiacenza. Oltre a ciò, ogni qual volta si creava un nuovo vertice per l'effetto della Contraction, si perdeva il suo riferimento dentro la lista di adiacenza per cui non era possibile accedervi in tempo costante ma occerreva passare tutta la lista."
   ]
  },
  {
   "cell_type": "code",
   "execution_count": 1,
   "metadata": {
    "tags": []
   },
   "outputs": [
    {
     "output_type": "stream",
     "name": "stdout",
     "text": "[('2', '5'), ('1', '4'), ('2', '4'), ('4', '5'), ('1', '3'), ('2', '6'), ('3', '5'), ('5', '6'), ('1', '2')]\n"
    }
   ],
   "source": [
    "import Contraction as c\n",
    "import math\n",
    "import time\n",
    "\n",
    "lista, nodi= c.ListEdge('input_random_1_6.txt')\n",
    "print(lista)"
   ]
  },
  {
   "cell_type": "markdown",
   "metadata": {},
   "source": [
    "# Full Contraction"
   ]
  },
  {
   "cell_type": "markdown",
   "metadata": {},
   "source": [
    "L'algorimto di Full Contraction prende in input il nome del file contenente la matrice di adiacenza, genera la lista di archi attraverso il metodo ListEdge e salva il numero totale di nodi nel grafo. <br />\n",
    "Successivamente l'algoritmo seleziona un arco casuale della lista e lo elimina insieme a tutto i suoi duplicati ed elimina i due nodi. <br />\n",
    "Infine attraverso il metodo *changeEdge* modifica tutti gli archi adiacenti ai due nodi eliminati in modo che si riferiscano al nuovo nodo creato dalla Contraction. <br />\n",
    "Il ciclo *while* viene eseguito finchè non rimangono solamente due vertici all'interno del grafo, tramite il contatore *nodes* infatti teniamo conto dei nodi presenti nel grafo. <br />\n",
    "L'algoritmo restituisce il numero finale di archi presenti tra i due vertici rimasti.\n",
    "\n"
   ]
  },
  {
   "cell_type": "code",
   "execution_count": 2,
   "metadata": {},
   "outputs": [],
   "source": [
    "def FullContraction(filename):\n",
    "    edges, nodes= ListEdge(filename) #lista archi #\n",
    "    while nodes>2:\n",
    "        x= random.choice(edges) ## estrazione casuale arco ##\n",
    "        nodea= x[0]\n",
    "        nodeb= x[1]\n",
    "        #### rimuovere arco selezionato e gli eventuali duplicati ####\n",
    "        while x in edges:\n",
    "            edges.remove(x)\n",
    "        nodes=nodes-1\n",
    "        ### sostituire con nuovo nodo e riposizionare gli archi corretti ###\n",
    "        edges=changeEdge(edges, nodea, nodeb)  \n",
    "        \n",
    "    #print('Final result: ', len(edges))\n",
    "    return len(edges)"
   ]
  },
  {
   "cell_type": "markdown",
   "metadata": {},
   "source": [
    "# Karger\n",
    "L'algoritmo di karger prende in input il nome del file contenente la matrice di adiacenza e il numero k che definisce quante volte eseguire la procedura di full contraction e ritorna il taglio minimo trovato ed il tempo impegato per trovare la migliore soluzione possibile, se questa non è stata trovata ritorna allora -1.\n",
    "E' stato settato un timeout che interrompe l'algoritmo dopo 600 secondi."
   ]
  },
  {
   "cell_type": "code",
   "execution_count": 3,
   "metadata": {
    "tags": []
   },
   "outputs": [
    {
     "output_type": "stream",
     "name": "stdout",
     "text": "MINCUT:  3\n"
    },
    {
     "output_type": "execute_result",
     "data": {
      "text/plain": "(3, 1593768882.0175023)"
     },
     "metadata": {},
     "execution_count": 3
    }
   ],
   "source": [
    "import time\n",
    "import Contraction as c\n",
    "MAX= 9223372036854775807\n",
    "\n",
    "\n",
    "def karger(filename, k):\n",
    "    timeinit = time.time()\n",
    "    #variable to save only the first time the correct solution is found\n",
    "    found= False\n",
    "    #the time of the first correct solution is inialized as -1 , so it is easy to check if the correct solution was not found\n",
    "    timeright = -1\n",
    "    #the method getrealresults simply gets the correct solution from the output file\n",
    "    REAL = c.getrealresult(filename)\n",
    "    min= MAX\n",
    "\n",
    "    while k>0:\n",
    "        #timeout to stop the algorithm\n",
    "        if time.time() > timeinit + 600:\n",
    "            break\n",
    "        edges=c.FullContraction(filename)\n",
    "        #condition to save the time of the first correct solution\n",
    "        if REAL == edges and found == False:\n",
    "            timeright = time.time()\n",
    "            found = True\n",
    "        if edges<min:\n",
    "            min=edges\n",
    "        k=k-1\n",
    "    print('MINCUT: ' , min)\n",
    "    return min, timeright\n",
    "\n",
    "karger('input_random_6_10.txt', 115)\n",
    "\n"
   ]
  },
  {
   "cell_type": "markdown",
   "metadata": {},
   "source": [
    "# Numero Iterazioni\n",
    "Il parametro k è stato selezionato per ogni grafo in base al numero di nodi in modo da assicurare una probabilità d' errore, nel calcolo del mincut, pari a *1/n* con *n*. \n",
    "Per questo motivo k viene impostato dal metodo defineK(n) che prende il numero 'n' di nodi del grafo e lo imposta a *((n x n)/2) x ln(n)* secondo la formula di probabilità affrontata nelle lezioni teoriche.  "
   ]
  },
  {
   "cell_type": "code",
   "execution_count": 4,
   "metadata": {
    "tags": []
   },
   "outputs": [
    {
     "output_type": "stream",
     "name": "stdout",
     "text": "input_random_10_25.txt\nnumber of contractions:  1006\nMINCUT:  6\ntime : 1.0995464324951172 seconds \ntime first minimal solution: 0.008315086364746094 seconds \n"
    }
   ],
   "source": [
    "def defineK(n):\n",
    "    k= ((n*n)/2)* math.log(n)\n",
    "    print('number of contractions: ', round(k))\n",
    "    return round(k)\n",
    "\n",
    "\n",
    "listfile = 'input_random_10_25.txt'\n",
    "print(listfile)\n",
    "start_time = time.time()\n",
    "partialresult, solvetime = karger(listfile, defineK(c.nodfromname(listfile)))\n",
    "end = time.time()\n",
    "print(\"time : %s seconds \" % (end - start_time))\n",
    "if (solvetime==-1):\n",
    "    print('NOT FOUND')\n",
    "else:\n",
    "    print(\"time first minimal solution: %s seconds \" % (solvetime - start_time))"
   ]
  },
  {
   "cell_type": "markdown",
   "metadata": {},
   "source": [
    "## 2. Il tempo impiegato dalla procedura di Full Contraction\n"
   ]
  },
  {
   "cell_type": "markdown",
   "metadata": {},
   "source": [
    "Nel grafico seguente riportiamo la media del tempo impiegato da Full Contraction sui grafi della stessa dimensione. La curva cresce lentamente per i grafi fino a 100 vertici per poi aumentare rapidamente con i grafi più grandi.  </br>\n",
    "I grafi con 200 vertici, infatti, impiegano poco meno di 2 secondi con conseguenze molto negative per l’algoritmo di Karger che ripete la FullContraction molte volte. <br />\n",
    "La complessità risulta essere nel caso peggiore *0(n x m)* in quanto:\n",
    "\n",
    "- il ciclo while viene ripetuto *(n-2)* volte\n",
    "- la procedura ChangeEdge viene ripetuta per tutti gli archi non ancora eliminati, quindi all'inizio dell'algoritmo avremo *m* ripetizioni.\n",
    "\n",
    "\n",
    "Tuttavia man mano che procediamo con la Full Contraction il numero totale di archi sarà sempre più piccolo, solo nel caso peggiore avremo *m* ripetizioni per la ChangeEdge. "
   ]
  },
  {
   "cell_type": "markdown",
   "metadata": {},
   "source": [
    "<img src=\"FullContractionMedia.png\" width=550 height=450 />"
   ]
  },
  {
   "cell_type": "markdown",
   "metadata": {},
   "source": [
    "## 3. Il tempo impiegato dall'algoritmo completo per ripetere la contrazione un numero sufficientemente alto di volte"
   ]
  },
  {
   "cell_type": "markdown",
   "metadata": {},
   "source": [
    "Di seguito sono riportati diversi grafici che confrontano i tempi totali dell'algoritmo di Karger, i risultati non sono stati rappresentati tutti insieme perché presentavano scale molto diverse. Inoltre solo per i grafi con meno di cento nodi è stato possibile calcolare Karger entro il timeout prefissato, mentre per i rimanenti grafi sono state calcolate delle stime inseirte nella tabella seguente. <br />\n",
    "Fino a 25 vertici l'algoritmo impiega meno di un secondo mentre per i grafi con 50 vertici impiega quasi un minuto, questo soprattutto a causa di *k* che passa da 1006 a 4890. "
   ]
  },
  {
   "cell_type": "markdown",
   "metadata": {},
   "source": [
    "<img src=\"PlotKarger.png\" width=550 height=450 />"
   ]
  },
  {
   "cell_type": "markdown",
   "metadata": {},
   "source": [
    "Nella tebella sono riportati le stime del tempo totale impiegato da Karger in minuti, calcolato con il tempo inpiagato da una singola Full Contraction per il numero totale di ripetizioni. Il tempo totale risulta molto elevato e oneroso già con 100 vertici tale da rendere l'algoritmo inutilizzabile. <br />\n",
    "La complessità per l'algortimo di karger risulta essere *O(n x m x k)* e sostituendo *k* abbiamo *O(n^3 x m x log n)*. Tale complessità è data semplicemente dal costo della Full Contraction per il parametro *k*, il numero di volte che viene ripetuta per avere una probabilità di errore pari a *1/n*."
   ]
  },
  {
   "cell_type": "markdown",
   "metadata": {},
   "source": [
    "<img src=\"TabellaStime.png\" width=450 height=350 />"
   ]
  },
  {
   "cell_type": "markdown",
   "metadata": {},
   "source": [
    "<img src=\"PlotKarger2.png\" width=450 height=350 />"
   ]
  },
  {
   "cell_type": "markdown",
   "metadata": {},
   "source": [
    "## 4. Il discovery time, ossia il momento in cui l'algoritmo trova per la prima volta il taglio di costo mimimo"
   ]
  },
  {
   "cell_type": "markdown",
   "metadata": {},
   "source": [
    "Come si può osservare dai dati ottenuti la soluzione ottima viene sempre identificata e il tempo impiegato mediamente è molto inferiore al tempo totale di esecuzione (nel caso dei grafi da 200 nodi dove l'algoritmo impiega 3000 minuti, la soluzione ottima viene trovata solo dopo 60 secondi. Data la grande discrepanza tra tempo totale e tempo impiegato per trovare la prima istanza della soluzione ottima non è stato possibile fare un confronto diretto ma ci siamo limitati a mostrare il tempo impiegato dalla soluzione ottima.\n"
   ]
  },
  {
   "cell_type": "markdown",
   "metadata": {},
   "source": [
    "<img src=\"optsol1.png\" width=450 height=350 />\n",
    "\n",
    "<img src=\"optsol2.png\" width=450 height=350 />"
   ]
  },
  {
   "cell_type": "markdown",
   "metadata": {},
   "source": []
  },
  {
   "cell_type": "markdown",
   "metadata": {},
   "source": [
    "## 5. L'errore nella soluzione trovata rispetto al risultato ottimo"
   ]
  },
  {
   "cell_type": "markdown",
   "metadata": {},
   "source": [
    "Nonostante l'analisi probabilistica richiedesse un numero elevato di iterazioni per ottenere la soluzione ottima con un'elevata confidenza, si osserva empiricamente che le soluzioni ottime vengono identificate in un numero molto minore di k-iterazioni. L'errore settando k= n\\*n/2\\ln(n) è pari a ZERO, l'algoritmo non sbaglia mai. Settando un k uniforme per tutti grafi i risultati sono comunque notevoli. Con k = 100 l'errore è ancora pari a ZERO, abbiamo quindi optato per un'analisi dell'errore per k=10 in modo da ottenere degli errori significativi."
   ]
  },
  {
   "cell_type": "markdown",
   "metadata": {},
   "source": [
    "<img src=\"errors.png\" width=650 height=350 />"
   ]
  },
  {
   "cell_type": "markdown",
   "metadata": {},
   "source": [
    "Come si osserva dalla statistica degli errori, anche con solo 10 iterazioni quasi tutti i grafi con numero di nodi minore di 100 vengono analizzati con successo dall'algoritmo di karger che riporta un errore pari a zero, per i grafi di dimensione maggiore invece l'errore segue un andamento imprevedibile ma rimane comunque sotto la soglia del 35%"
   ]
  },
  {
   "cell_type": "markdown",
   "metadata": {},
   "source": [
    "## 6. Conclusioni"
   ]
  },
  {
   "cell_type": "markdown",
   "metadata": {},
   "source": [
    "L'algoritmo di Karger dimostra come l'approccio randomico possa essere molto efficace nella risoluzione di determinati problemi, con i giusti parametri riesce ad assicurare un ampia precisione della soluzione ottima."
   ]
  }
 ],
 "metadata": {
  "kernelspec": {
   "display_name": "Python 3",
   "language": "python",
   "name": "python3"
  },
  "language_info": {
   "codemirror_mode": {
    "name": "ipython",
    "version": 3
   },
   "file_extension": ".py",
   "mimetype": "text/x-python",
   "name": "python",
   "nbconvert_exporter": "python",
   "pygments_lexer": "ipython3",
   "version": "3.8.2-final"
  }
 },
 "nbformat": 4,
 "nbformat_minor": 2
}